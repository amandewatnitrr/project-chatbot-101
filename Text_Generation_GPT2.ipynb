{
  "nbformat": 4,
  "nbformat_minor": 0,
  "metadata": {
    "colab": {
      "provenance": []
    },
    "kernelspec": {
      "name": "python3",
      "display_name": "Python 3"
    },
    "accelerator": "GPU",
    "widgets": {
      "application/vnd.jupyter.widget-state+json": {
        "35927d259fba4d98a857041d57f6d4f2": {
          "model_module": "@jupyter-widgets/controls",
          "model_name": "HBoxModel",
          "state": {
            "_view_name": "HBoxView",
            "_dom_classes": [],
            "_model_name": "HBoxModel",
            "_view_module": "@jupyter-widgets/controls",
            "_model_module_version": "1.5.0",
            "_view_count": null,
            "_view_module_version": "1.5.0",
            "box_style": "",
            "layout": "IPY_MODEL_3f6e31f8bd2e481ebe0beedbdce258f9",
            "_model_module": "@jupyter-widgets/controls",
            "children": [
              "IPY_MODEL_a9cdaf5792ef4afe96301826443a6b00",
              "IPY_MODEL_a8e99606d1254702bb9b723dc7da6a01"
            ]
          },
          "model_module_version": "1.5.0"
        },
        "3f6e31f8bd2e481ebe0beedbdce258f9": {
          "model_module": "@jupyter-widgets/base",
          "model_name": "LayoutModel",
          "state": {
            "_view_name": "LayoutView",
            "grid_template_rows": null,
            "right": null,
            "justify_content": null,
            "_view_module": "@jupyter-widgets/base",
            "overflow": null,
            "_model_module_version": "1.2.0",
            "_view_count": null,
            "flex_flow": null,
            "width": null,
            "min_width": null,
            "border": null,
            "align_items": null,
            "bottom": null,
            "_model_module": "@jupyter-widgets/base",
            "top": null,
            "grid_column": null,
            "overflow_y": null,
            "overflow_x": null,
            "grid_auto_flow": null,
            "grid_area": null,
            "grid_template_columns": null,
            "flex": null,
            "_model_name": "LayoutModel",
            "justify_items": null,
            "grid_row": null,
            "max_height": null,
            "align_content": null,
            "visibility": null,
            "align_self": null,
            "height": null,
            "min_height": null,
            "padding": null,
            "grid_auto_rows": null,
            "grid_gap": null,
            "max_width": null,
            "order": null,
            "_view_module_version": "1.2.0",
            "grid_template_areas": null,
            "object_position": null,
            "object_fit": null,
            "grid_auto_columns": null,
            "margin": null,
            "display": null,
            "left": null
          },
          "model_module_version": "1.2.0"
        },
        "a9cdaf5792ef4afe96301826443a6b00": {
          "model_module": "@jupyter-widgets/controls",
          "model_name": "FloatProgressModel",
          "state": {
            "_view_name": "ProgressView",
            "style": "IPY_MODEL_c16201df4a4c48819e70405c8987d72c",
            "_dom_classes": [],
            "description": "Downloading: 100%",
            "_model_name": "FloatProgressModel",
            "bar_style": "success",
            "max": 1042301,
            "_view_module": "@jupyter-widgets/controls",
            "_model_module_version": "1.5.0",
            "value": 1042301,
            "_view_count": null,
            "_view_module_version": "1.5.0",
            "orientation": "horizontal",
            "min": 0,
            "description_tooltip": null,
            "_model_module": "@jupyter-widgets/controls",
            "layout": "IPY_MODEL_f40500b9c44e46acb2d2d4117ac88bfe"
          },
          "model_module_version": "1.5.0"
        },
        "a8e99606d1254702bb9b723dc7da6a01": {
          "model_module": "@jupyter-widgets/controls",
          "model_name": "HTMLModel",
          "state": {
            "_view_name": "HTMLView",
            "style": "IPY_MODEL_3ff6d993a8e44c5e820246a6af42a5ec",
            "_dom_classes": [],
            "description": "",
            "_model_name": "HTMLModel",
            "placeholder": "​",
            "_view_module": "@jupyter-widgets/controls",
            "_model_module_version": "1.5.0",
            "value": " 1.04M/1.04M [00:01&lt;00:00, 788kB/s]",
            "_view_count": null,
            "_view_module_version": "1.5.0",
            "description_tooltip": null,
            "_model_module": "@jupyter-widgets/controls",
            "layout": "IPY_MODEL_a62727cb67a34f36a380b62d955e7e7d"
          },
          "model_module_version": "1.5.0"
        },
        "c16201df4a4c48819e70405c8987d72c": {
          "model_module": "@jupyter-widgets/controls",
          "model_name": "ProgressStyleModel",
          "state": {
            "_view_name": "StyleView",
            "_model_name": "ProgressStyleModel",
            "description_width": "initial",
            "_view_module": "@jupyter-widgets/base",
            "_model_module_version": "1.5.0",
            "_view_count": null,
            "_view_module_version": "1.2.0",
            "bar_color": null,
            "_model_module": "@jupyter-widgets/controls"
          },
          "model_module_version": "1.5.0"
        },
        "f40500b9c44e46acb2d2d4117ac88bfe": {
          "model_module": "@jupyter-widgets/base",
          "model_name": "LayoutModel",
          "state": {
            "_view_name": "LayoutView",
            "grid_template_rows": null,
            "right": null,
            "justify_content": null,
            "_view_module": "@jupyter-widgets/base",
            "overflow": null,
            "_model_module_version": "1.2.0",
            "_view_count": null,
            "flex_flow": null,
            "width": null,
            "min_width": null,
            "border": null,
            "align_items": null,
            "bottom": null,
            "_model_module": "@jupyter-widgets/base",
            "top": null,
            "grid_column": null,
            "overflow_y": null,
            "overflow_x": null,
            "grid_auto_flow": null,
            "grid_area": null,
            "grid_template_columns": null,
            "flex": null,
            "_model_name": "LayoutModel",
            "justify_items": null,
            "grid_row": null,
            "max_height": null,
            "align_content": null,
            "visibility": null,
            "align_self": null,
            "height": null,
            "min_height": null,
            "padding": null,
            "grid_auto_rows": null,
            "grid_gap": null,
            "max_width": null,
            "order": null,
            "_view_module_version": "1.2.0",
            "grid_template_areas": null,
            "object_position": null,
            "object_fit": null,
            "grid_auto_columns": null,
            "margin": null,
            "display": null,
            "left": null
          },
          "model_module_version": "1.2.0"
        },
        "3ff6d993a8e44c5e820246a6af42a5ec": {
          "model_module": "@jupyter-widgets/controls",
          "model_name": "DescriptionStyleModel",
          "state": {
            "_view_name": "StyleView",
            "_model_name": "DescriptionStyleModel",
            "description_width": "",
            "_view_module": "@jupyter-widgets/base",
            "_model_module_version": "1.5.0",
            "_view_count": null,
            "_view_module_version": "1.2.0",
            "_model_module": "@jupyter-widgets/controls"
          },
          "model_module_version": "1.5.0"
        },
        "a62727cb67a34f36a380b62d955e7e7d": {
          "model_module": "@jupyter-widgets/base",
          "model_name": "LayoutModel",
          "state": {
            "_view_name": "LayoutView",
            "grid_template_rows": null,
            "right": null,
            "justify_content": null,
            "_view_module": "@jupyter-widgets/base",
            "overflow": null,
            "_model_module_version": "1.2.0",
            "_view_count": null,
            "flex_flow": null,
            "width": null,
            "min_width": null,
            "border": null,
            "align_items": null,
            "bottom": null,
            "_model_module": "@jupyter-widgets/base",
            "top": null,
            "grid_column": null,
            "overflow_y": null,
            "overflow_x": null,
            "grid_auto_flow": null,
            "grid_area": null,
            "grid_template_columns": null,
            "flex": null,
            "_model_name": "LayoutModel",
            "justify_items": null,
            "grid_row": null,
            "max_height": null,
            "align_content": null,
            "visibility": null,
            "align_self": null,
            "height": null,
            "min_height": null,
            "padding": null,
            "grid_auto_rows": null,
            "grid_gap": null,
            "max_width": null,
            "order": null,
            "_view_module_version": "1.2.0",
            "grid_template_areas": null,
            "object_position": null,
            "object_fit": null,
            "grid_auto_columns": null,
            "margin": null,
            "display": null,
            "left": null
          },
          "model_module_version": "1.2.0"
        },
        "f33a4d5968184219a1ca3a79b6766d98": {
          "model_module": "@jupyter-widgets/controls",
          "model_name": "HBoxModel",
          "state": {
            "_view_name": "HBoxView",
            "_dom_classes": [],
            "_model_name": "HBoxModel",
            "_view_module": "@jupyter-widgets/controls",
            "_model_module_version": "1.5.0",
            "_view_count": null,
            "_view_module_version": "1.5.0",
            "box_style": "",
            "layout": "IPY_MODEL_8277550d6bda459bbe13a41762b2ff80",
            "_model_module": "@jupyter-widgets/controls",
            "children": [
              "IPY_MODEL_d12c8de2265d48c8a6cf658af3a79feb",
              "IPY_MODEL_3eab942c73ee469386d25da992d8bb43"
            ]
          },
          "model_module_version": "1.5.0"
        },
        "8277550d6bda459bbe13a41762b2ff80": {
          "model_module": "@jupyter-widgets/base",
          "model_name": "LayoutModel",
          "state": {
            "_view_name": "LayoutView",
            "grid_template_rows": null,
            "right": null,
            "justify_content": null,
            "_view_module": "@jupyter-widgets/base",
            "overflow": null,
            "_model_module_version": "1.2.0",
            "_view_count": null,
            "flex_flow": null,
            "width": null,
            "min_width": null,
            "border": null,
            "align_items": null,
            "bottom": null,
            "_model_module": "@jupyter-widgets/base",
            "top": null,
            "grid_column": null,
            "overflow_y": null,
            "overflow_x": null,
            "grid_auto_flow": null,
            "grid_area": null,
            "grid_template_columns": null,
            "flex": null,
            "_model_name": "LayoutModel",
            "justify_items": null,
            "grid_row": null,
            "max_height": null,
            "align_content": null,
            "visibility": null,
            "align_self": null,
            "height": null,
            "min_height": null,
            "padding": null,
            "grid_auto_rows": null,
            "grid_gap": null,
            "max_width": null,
            "order": null,
            "_view_module_version": "1.2.0",
            "grid_template_areas": null,
            "object_position": null,
            "object_fit": null,
            "grid_auto_columns": null,
            "margin": null,
            "display": null,
            "left": null
          },
          "model_module_version": "1.2.0"
        },
        "d12c8de2265d48c8a6cf658af3a79feb": {
          "model_module": "@jupyter-widgets/controls",
          "model_name": "FloatProgressModel",
          "state": {
            "_view_name": "ProgressView",
            "style": "IPY_MODEL_a920aa2127e44152b243097842ba539f",
            "_dom_classes": [],
            "description": "Downloading: 100%",
            "_model_name": "FloatProgressModel",
            "bar_style": "success",
            "max": 456318,
            "_view_module": "@jupyter-widgets/controls",
            "_model_module_version": "1.5.0",
            "value": 456318,
            "_view_count": null,
            "_view_module_version": "1.5.0",
            "orientation": "horizontal",
            "min": 0,
            "description_tooltip": null,
            "_model_module": "@jupyter-widgets/controls",
            "layout": "IPY_MODEL_5fb6aeeca61b440b8d6bf98c481ba4a2"
          },
          "model_module_version": "1.5.0"
        },
        "3eab942c73ee469386d25da992d8bb43": {
          "model_module": "@jupyter-widgets/controls",
          "model_name": "HTMLModel",
          "state": {
            "_view_name": "HTMLView",
            "style": "IPY_MODEL_33455bf3a69a435a88cccb6f5c8c03cf",
            "_dom_classes": [],
            "description": "",
            "_model_name": "HTMLModel",
            "placeholder": "​",
            "_view_module": "@jupyter-widgets/controls",
            "_model_module_version": "1.5.0",
            "value": " 456k/456k [00:00&lt;00:00, 1.22MB/s]",
            "_view_count": null,
            "_view_module_version": "1.5.0",
            "description_tooltip": null,
            "_model_module": "@jupyter-widgets/controls",
            "layout": "IPY_MODEL_1e73abe7f3aa4a3cb7d4098b583f1766"
          },
          "model_module_version": "1.5.0"
        },
        "a920aa2127e44152b243097842ba539f": {
          "model_module": "@jupyter-widgets/controls",
          "model_name": "ProgressStyleModel",
          "state": {
            "_view_name": "StyleView",
            "_model_name": "ProgressStyleModel",
            "description_width": "initial",
            "_view_module": "@jupyter-widgets/base",
            "_model_module_version": "1.5.0",
            "_view_count": null,
            "_view_module_version": "1.2.0",
            "bar_color": null,
            "_model_module": "@jupyter-widgets/controls"
          },
          "model_module_version": "1.5.0"
        },
        "5fb6aeeca61b440b8d6bf98c481ba4a2": {
          "model_module": "@jupyter-widgets/base",
          "model_name": "LayoutModel",
          "state": {
            "_view_name": "LayoutView",
            "grid_template_rows": null,
            "right": null,
            "justify_content": null,
            "_view_module": "@jupyter-widgets/base",
            "overflow": null,
            "_model_module_version": "1.2.0",
            "_view_count": null,
            "flex_flow": null,
            "width": null,
            "min_width": null,
            "border": null,
            "align_items": null,
            "bottom": null,
            "_model_module": "@jupyter-widgets/base",
            "top": null,
            "grid_column": null,
            "overflow_y": null,
            "overflow_x": null,
            "grid_auto_flow": null,
            "grid_area": null,
            "grid_template_columns": null,
            "flex": null,
            "_model_name": "LayoutModel",
            "justify_items": null,
            "grid_row": null,
            "max_height": null,
            "align_content": null,
            "visibility": null,
            "align_self": null,
            "height": null,
            "min_height": null,
            "padding": null,
            "grid_auto_rows": null,
            "grid_gap": null,
            "max_width": null,
            "order": null,
            "_view_module_version": "1.2.0",
            "grid_template_areas": null,
            "object_position": null,
            "object_fit": null,
            "grid_auto_columns": null,
            "margin": null,
            "display": null,
            "left": null
          },
          "model_module_version": "1.2.0"
        },
        "33455bf3a69a435a88cccb6f5c8c03cf": {
          "model_module": "@jupyter-widgets/controls",
          "model_name": "DescriptionStyleModel",
          "state": {
            "_view_name": "StyleView",
            "_model_name": "DescriptionStyleModel",
            "description_width": "",
            "_view_module": "@jupyter-widgets/base",
            "_model_module_version": "1.5.0",
            "_view_count": null,
            "_view_module_version": "1.2.0",
            "_model_module": "@jupyter-widgets/controls"
          },
          "model_module_version": "1.5.0"
        },
        "1e73abe7f3aa4a3cb7d4098b583f1766": {
          "model_module": "@jupyter-widgets/base",
          "model_name": "LayoutModel",
          "state": {
            "_view_name": "LayoutView",
            "grid_template_rows": null,
            "right": null,
            "justify_content": null,
            "_view_module": "@jupyter-widgets/base",
            "overflow": null,
            "_model_module_version": "1.2.0",
            "_view_count": null,
            "flex_flow": null,
            "width": null,
            "min_width": null,
            "border": null,
            "align_items": null,
            "bottom": null,
            "_model_module": "@jupyter-widgets/base",
            "top": null,
            "grid_column": null,
            "overflow_y": null,
            "overflow_x": null,
            "grid_auto_flow": null,
            "grid_area": null,
            "grid_template_columns": null,
            "flex": null,
            "_model_name": "LayoutModel",
            "justify_items": null,
            "grid_row": null,
            "max_height": null,
            "align_content": null,
            "visibility": null,
            "align_self": null,
            "height": null,
            "min_height": null,
            "padding": null,
            "grid_auto_rows": null,
            "grid_gap": null,
            "max_width": null,
            "order": null,
            "_view_module_version": "1.2.0",
            "grid_template_areas": null,
            "object_position": null,
            "object_fit": null,
            "grid_auto_columns": null,
            "margin": null,
            "display": null,
            "left": null
          },
          "model_module_version": "1.2.0"
        },
        "5284c488e7a94b35ba92e67201ca6273": {
          "model_module": "@jupyter-widgets/controls",
          "model_name": "HBoxModel",
          "state": {
            "_view_name": "HBoxView",
            "_dom_classes": [],
            "_model_name": "HBoxModel",
            "_view_module": "@jupyter-widgets/controls",
            "_model_module_version": "1.5.0",
            "_view_count": null,
            "_view_module_version": "1.5.0",
            "box_style": "",
            "layout": "IPY_MODEL_6de15ab4803d4dc5b273a9c773578e2c",
            "_model_module": "@jupyter-widgets/controls",
            "children": [
              "IPY_MODEL_4fc04f5eefe2498093dfc2f3e7222737",
              "IPY_MODEL_8179b2413d244541866a0e8b7ca7b977"
            ]
          },
          "model_module_version": "1.5.0"
        },
        "6de15ab4803d4dc5b273a9c773578e2c": {
          "model_module": "@jupyter-widgets/base",
          "model_name": "LayoutModel",
          "state": {
            "_view_name": "LayoutView",
            "grid_template_rows": null,
            "right": null,
            "justify_content": null,
            "_view_module": "@jupyter-widgets/base",
            "overflow": null,
            "_model_module_version": "1.2.0",
            "_view_count": null,
            "flex_flow": null,
            "width": null,
            "min_width": null,
            "border": null,
            "align_items": null,
            "bottom": null,
            "_model_module": "@jupyter-widgets/base",
            "top": null,
            "grid_column": null,
            "overflow_y": null,
            "overflow_x": null,
            "grid_auto_flow": null,
            "grid_area": null,
            "grid_template_columns": null,
            "flex": null,
            "_model_name": "LayoutModel",
            "justify_items": null,
            "grid_row": null,
            "max_height": null,
            "align_content": null,
            "visibility": null,
            "align_self": null,
            "height": null,
            "min_height": null,
            "padding": null,
            "grid_auto_rows": null,
            "grid_gap": null,
            "max_width": null,
            "order": null,
            "_view_module_version": "1.2.0",
            "grid_template_areas": null,
            "object_position": null,
            "object_fit": null,
            "grid_auto_columns": null,
            "margin": null,
            "display": null,
            "left": null
          },
          "model_module_version": "1.2.0"
        },
        "4fc04f5eefe2498093dfc2f3e7222737": {
          "model_module": "@jupyter-widgets/controls",
          "model_name": "FloatProgressModel",
          "state": {
            "_view_name": "ProgressView",
            "style": "IPY_MODEL_dac8b1c66d1e42829c9e36c3db4a8338",
            "_dom_classes": [],
            "description": "Downloading: 100%",
            "_model_name": "FloatProgressModel",
            "bar_style": "success",
            "max": 665,
            "_view_module": "@jupyter-widgets/controls",
            "_model_module_version": "1.5.0",
            "value": 665,
            "_view_count": null,
            "_view_module_version": "1.5.0",
            "orientation": "horizontal",
            "min": 0,
            "description_tooltip": null,
            "_model_module": "@jupyter-widgets/controls",
            "layout": "IPY_MODEL_b851435d07f64bfc8c128bf12b9303a5"
          },
          "model_module_version": "1.5.0"
        },
        "8179b2413d244541866a0e8b7ca7b977": {
          "model_module": "@jupyter-widgets/controls",
          "model_name": "HTMLModel",
          "state": {
            "_view_name": "HTMLView",
            "style": "IPY_MODEL_31ec0adbf5474b2ab76151f410778ac3",
            "_dom_classes": [],
            "description": "",
            "_model_name": "HTMLModel",
            "placeholder": "​",
            "_view_module": "@jupyter-widgets/controls",
            "_model_module_version": "1.5.0",
            "value": " 665/665 [00:11&lt;00:00, 58.2B/s]",
            "_view_count": null,
            "_view_module_version": "1.5.0",
            "description_tooltip": null,
            "_model_module": "@jupyter-widgets/controls",
            "layout": "IPY_MODEL_5aa3959fc05541c6b67cb7f2faa07f87"
          },
          "model_module_version": "1.5.0"
        },
        "dac8b1c66d1e42829c9e36c3db4a8338": {
          "model_module": "@jupyter-widgets/controls",
          "model_name": "ProgressStyleModel",
          "state": {
            "_view_name": "StyleView",
            "_model_name": "ProgressStyleModel",
            "description_width": "initial",
            "_view_module": "@jupyter-widgets/base",
            "_model_module_version": "1.5.0",
            "_view_count": null,
            "_view_module_version": "1.2.0",
            "bar_color": null,
            "_model_module": "@jupyter-widgets/controls"
          },
          "model_module_version": "1.5.0"
        },
        "b851435d07f64bfc8c128bf12b9303a5": {
          "model_module": "@jupyter-widgets/base",
          "model_name": "LayoutModel",
          "state": {
            "_view_name": "LayoutView",
            "grid_template_rows": null,
            "right": null,
            "justify_content": null,
            "_view_module": "@jupyter-widgets/base",
            "overflow": null,
            "_model_module_version": "1.2.0",
            "_view_count": null,
            "flex_flow": null,
            "width": null,
            "min_width": null,
            "border": null,
            "align_items": null,
            "bottom": null,
            "_model_module": "@jupyter-widgets/base",
            "top": null,
            "grid_column": null,
            "overflow_y": null,
            "overflow_x": null,
            "grid_auto_flow": null,
            "grid_area": null,
            "grid_template_columns": null,
            "flex": null,
            "_model_name": "LayoutModel",
            "justify_items": null,
            "grid_row": null,
            "max_height": null,
            "align_content": null,
            "visibility": null,
            "align_self": null,
            "height": null,
            "min_height": null,
            "padding": null,
            "grid_auto_rows": null,
            "grid_gap": null,
            "max_width": null,
            "order": null,
            "_view_module_version": "1.2.0",
            "grid_template_areas": null,
            "object_position": null,
            "object_fit": null,
            "grid_auto_columns": null,
            "margin": null,
            "display": null,
            "left": null
          },
          "model_module_version": "1.2.0"
        },
        "31ec0adbf5474b2ab76151f410778ac3": {
          "model_module": "@jupyter-widgets/controls",
          "model_name": "DescriptionStyleModel",
          "state": {
            "_view_name": "StyleView",
            "_model_name": "DescriptionStyleModel",
            "description_width": "",
            "_view_module": "@jupyter-widgets/base",
            "_model_module_version": "1.5.0",
            "_view_count": null,
            "_view_module_version": "1.2.0",
            "_model_module": "@jupyter-widgets/controls"
          },
          "model_module_version": "1.5.0"
        },
        "5aa3959fc05541c6b67cb7f2faa07f87": {
          "model_module": "@jupyter-widgets/base",
          "model_name": "LayoutModel",
          "state": {
            "_view_name": "LayoutView",
            "grid_template_rows": null,
            "right": null,
            "justify_content": null,
            "_view_module": "@jupyter-widgets/base",
            "overflow": null,
            "_model_module_version": "1.2.0",
            "_view_count": null,
            "flex_flow": null,
            "width": null,
            "min_width": null,
            "border": null,
            "align_items": null,
            "bottom": null,
            "_model_module": "@jupyter-widgets/base",
            "top": null,
            "grid_column": null,
            "overflow_y": null,
            "overflow_x": null,
            "grid_auto_flow": null,
            "grid_area": null,
            "grid_template_columns": null,
            "flex": null,
            "_model_name": "LayoutModel",
            "justify_items": null,
            "grid_row": null,
            "max_height": null,
            "align_content": null,
            "visibility": null,
            "align_self": null,
            "height": null,
            "min_height": null,
            "padding": null,
            "grid_auto_rows": null,
            "grid_gap": null,
            "max_width": null,
            "order": null,
            "_view_module_version": "1.2.0",
            "grid_template_areas": null,
            "object_position": null,
            "object_fit": null,
            "grid_auto_columns": null,
            "margin": null,
            "display": null,
            "left": null
          },
          "model_module_version": "1.2.0"
        },
        "8e7bcfaca92f4d90bf3b42fb675c9736": {
          "model_module": "@jupyter-widgets/controls",
          "model_name": "HBoxModel",
          "state": {
            "_view_name": "HBoxView",
            "_dom_classes": [],
            "_model_name": "HBoxModel",
            "_view_module": "@jupyter-widgets/controls",
            "_model_module_version": "1.5.0",
            "_view_count": null,
            "_view_module_version": "1.5.0",
            "box_style": "",
            "layout": "IPY_MODEL_8d24fb997f654254bdf9b7c26cee4d7c",
            "_model_module": "@jupyter-widgets/controls",
            "children": [
              "IPY_MODEL_879ebf707bd443589aeb15e943ae5a88",
              "IPY_MODEL_ddbda17b438740c597bce19a14fdf3a7"
            ]
          },
          "model_module_version": "1.5.0"
        },
        "8d24fb997f654254bdf9b7c26cee4d7c": {
          "model_module": "@jupyter-widgets/base",
          "model_name": "LayoutModel",
          "state": {
            "_view_name": "LayoutView",
            "grid_template_rows": null,
            "right": null,
            "justify_content": null,
            "_view_module": "@jupyter-widgets/base",
            "overflow": null,
            "_model_module_version": "1.2.0",
            "_view_count": null,
            "flex_flow": null,
            "width": null,
            "min_width": null,
            "border": null,
            "align_items": null,
            "bottom": null,
            "_model_module": "@jupyter-widgets/base",
            "top": null,
            "grid_column": null,
            "overflow_y": null,
            "overflow_x": null,
            "grid_auto_flow": null,
            "grid_area": null,
            "grid_template_columns": null,
            "flex": null,
            "_model_name": "LayoutModel",
            "justify_items": null,
            "grid_row": null,
            "max_height": null,
            "align_content": null,
            "visibility": null,
            "align_self": null,
            "height": null,
            "min_height": null,
            "padding": null,
            "grid_auto_rows": null,
            "grid_gap": null,
            "max_width": null,
            "order": null,
            "_view_module_version": "1.2.0",
            "grid_template_areas": null,
            "object_position": null,
            "object_fit": null,
            "grid_auto_columns": null,
            "margin": null,
            "display": null,
            "left": null
          },
          "model_module_version": "1.2.0"
        },
        "879ebf707bd443589aeb15e943ae5a88": {
          "model_module": "@jupyter-widgets/controls",
          "model_name": "FloatProgressModel",
          "state": {
            "_view_name": "ProgressView",
            "style": "IPY_MODEL_e5be9568f48c45919c4fd8dae7ca17df",
            "_dom_classes": [],
            "description": "Downloading: 100%",
            "_model_name": "FloatProgressModel",
            "bar_style": "success",
            "max": 497933648,
            "_view_module": "@jupyter-widgets/controls",
            "_model_module_version": "1.5.0",
            "value": 497933648,
            "_view_count": null,
            "_view_module_version": "1.5.0",
            "orientation": "horizontal",
            "min": 0,
            "description_tooltip": null,
            "_model_module": "@jupyter-widgets/controls",
            "layout": "IPY_MODEL_fb35214a9af747f986ff77895a6c91b8"
          },
          "model_module_version": "1.5.0"
        },
        "ddbda17b438740c597bce19a14fdf3a7": {
          "model_module": "@jupyter-widgets/controls",
          "model_name": "HTMLModel",
          "state": {
            "_view_name": "HTMLView",
            "style": "IPY_MODEL_994b8522cbc7482a9e92b5cb87e63974",
            "_dom_classes": [],
            "description": "",
            "_model_name": "HTMLModel",
            "placeholder": "​",
            "_view_module": "@jupyter-widgets/controls",
            "_model_module_version": "1.5.0",
            "value": " 498M/498M [00:11&lt;00:00, 45.0MB/s]",
            "_view_count": null,
            "_view_module_version": "1.5.0",
            "description_tooltip": null,
            "_model_module": "@jupyter-widgets/controls",
            "layout": "IPY_MODEL_f0d7bd6895d74d6eb060adbd122e0f6e"
          },
          "model_module_version": "1.5.0"
        },
        "e5be9568f48c45919c4fd8dae7ca17df": {
          "model_module": "@jupyter-widgets/controls",
          "model_name": "ProgressStyleModel",
          "state": {
            "_view_name": "StyleView",
            "_model_name": "ProgressStyleModel",
            "description_width": "initial",
            "_view_module": "@jupyter-widgets/base",
            "_model_module_version": "1.5.0",
            "_view_count": null,
            "_view_module_version": "1.2.0",
            "bar_color": null,
            "_model_module": "@jupyter-widgets/controls"
          },
          "model_module_version": "1.5.0"
        },
        "fb35214a9af747f986ff77895a6c91b8": {
          "model_module": "@jupyter-widgets/base",
          "model_name": "LayoutModel",
          "state": {
            "_view_name": "LayoutView",
            "grid_template_rows": null,
            "right": null,
            "justify_content": null,
            "_view_module": "@jupyter-widgets/base",
            "overflow": null,
            "_model_module_version": "1.2.0",
            "_view_count": null,
            "flex_flow": null,
            "width": null,
            "min_width": null,
            "border": null,
            "align_items": null,
            "bottom": null,
            "_model_module": "@jupyter-widgets/base",
            "top": null,
            "grid_column": null,
            "overflow_y": null,
            "overflow_x": null,
            "grid_auto_flow": null,
            "grid_area": null,
            "grid_template_columns": null,
            "flex": null,
            "_model_name": "LayoutModel",
            "justify_items": null,
            "grid_row": null,
            "max_height": null,
            "align_content": null,
            "visibility": null,
            "align_self": null,
            "height": null,
            "min_height": null,
            "padding": null,
            "grid_auto_rows": null,
            "grid_gap": null,
            "max_width": null,
            "order": null,
            "_view_module_version": "1.2.0",
            "grid_template_areas": null,
            "object_position": null,
            "object_fit": null,
            "grid_auto_columns": null,
            "margin": null,
            "display": null,
            "left": null
          },
          "model_module_version": "1.2.0"
        },
        "994b8522cbc7482a9e92b5cb87e63974": {
          "model_module": "@jupyter-widgets/controls",
          "model_name": "DescriptionStyleModel",
          "state": {
            "_view_name": "StyleView",
            "_model_name": "DescriptionStyleModel",
            "description_width": "",
            "_view_module": "@jupyter-widgets/base",
            "_model_module_version": "1.5.0",
            "_view_count": null,
            "_view_module_version": "1.2.0",
            "_model_module": "@jupyter-widgets/controls"
          },
          "model_module_version": "1.5.0"
        },
        "f0d7bd6895d74d6eb060adbd122e0f6e": {
          "model_module": "@jupyter-widgets/base",
          "model_name": "LayoutModel",
          "state": {
            "_view_name": "LayoutView",
            "grid_template_rows": null,
            "right": null,
            "justify_content": null,
            "_view_module": "@jupyter-widgets/base",
            "overflow": null,
            "_model_module_version": "1.2.0",
            "_view_count": null,
            "flex_flow": null,
            "width": null,
            "min_width": null,
            "border": null,
            "align_items": null,
            "bottom": null,
            "_model_module": "@jupyter-widgets/base",
            "top": null,
            "grid_column": null,
            "overflow_y": null,
            "overflow_x": null,
            "grid_auto_flow": null,
            "grid_area": null,
            "grid_template_columns": null,
            "flex": null,
            "_model_name": "LayoutModel",
            "justify_items": null,
            "grid_row": null,
            "max_height": null,
            "align_content": null,
            "visibility": null,
            "align_self": null,
            "height": null,
            "min_height": null,
            "padding": null,
            "grid_auto_rows": null,
            "grid_gap": null,
            "max_width": null,
            "order": null,
            "_view_module_version": "1.2.0",
            "grid_template_areas": null,
            "object_position": null,
            "object_fit": null,
            "grid_auto_columns": null,
            "margin": null,
            "display": null,
            "left": null
          },
          "model_module_version": "1.2.0"
        }
      }
    }
  },
  "cells": [
    {
      "cell_type": "markdown",
      "metadata": {
        "id": "sHcL2P_0aOZ6"
      },
      "source": [
        "#**Text Generation using GPT-2**"
      ]
    },
    {
      "cell_type": "code",
      "metadata": {
        "id": "jGQrBxujancw",
        "colab": {
          "base_uri": "https://localhost:8080/",
          "height": 632
        },
        "outputId": "950ca70d-f4e5-466a-cd08-f1e258c321ca"
      },
      "source": [
        "###### Installing Libraries\n",
        "\n",
        "! pip install transformers\n",
        "! pip install tokenizers"
      ],
      "execution_count": null,
      "outputs": [
        {
          "output_type": "stream",
          "text": [
            "Collecting transformers\n",
            "\u001b[?25l  Downloading https://files.pythonhosted.org/packages/27/3c/91ed8f5c4e7ef3227b4119200fc0ed4b4fd965b1f0172021c25701087825/transformers-3.0.2-py3-none-any.whl (769kB)\n",
            "\r\u001b[K     |▍                               | 10kB 20.8MB/s eta 0:00:01\r\u001b[K     |▉                               | 20kB 2.9MB/s eta 0:00:01\r\u001b[K     |█▎                              | 30kB 3.9MB/s eta 0:00:01\r\u001b[K     |█▊                              | 40kB 4.2MB/s eta 0:00:01\r\u001b[K     |██▏                             | 51kB 3.4MB/s eta 0:00:01\r\u001b[K     |██▋                             | 61kB 3.8MB/s eta 0:00:01\r\u001b[K     |███                             | 71kB 3.9MB/s eta 0:00:01\r\u001b[K     |███▍                            | 81kB 4.5MB/s eta 0:00:01\r\u001b[K     |███▉                            | 92kB 4.8MB/s eta 0:00:01\r\u001b[K     |████▎                           | 102kB 4.6MB/s eta 0:00:01\r\u001b[K     |████▊                           | 112kB 4.6MB/s eta 0:00:01\r\u001b[K     |█████▏                          | 122kB 4.6MB/s eta 0:00:01\r\u001b[K     |█████▌                          | 133kB 4.6MB/s eta 0:00:01\r\u001b[K     |██████                          | 143kB 4.6MB/s eta 0:00:01\r\u001b[K     |██████▍                         | 153kB 4.6MB/s eta 0:00:01\r\u001b[K     |██████▉                         | 163kB 4.6MB/s eta 0:00:01\r\u001b[K     |███████▎                        | 174kB 4.6MB/s eta 0:00:01\r\u001b[K     |███████▊                        | 184kB 4.6MB/s eta 0:00:01\r\u001b[K     |████████                        | 194kB 4.6MB/s eta 0:00:01\r\u001b[K     |████████▌                       | 204kB 4.6MB/s eta 0:00:01\r\u001b[K     |█████████                       | 215kB 4.6MB/s eta 0:00:01\r\u001b[K     |█████████▍                      | 225kB 4.6MB/s eta 0:00:01\r\u001b[K     |█████████▉                      | 235kB 4.6MB/s eta 0:00:01\r\u001b[K     |██████████▎                     | 245kB 4.6MB/s eta 0:00:01\r\u001b[K     |██████████▋                     | 256kB 4.6MB/s eta 0:00:01\r\u001b[K     |███████████                     | 266kB 4.6MB/s eta 0:00:01\r\u001b[K     |███████████▌                    | 276kB 4.6MB/s eta 0:00:01\r\u001b[K     |████████████                    | 286kB 4.6MB/s eta 0:00:01\r\u001b[K     |████████████▍                   | 296kB 4.6MB/s eta 0:00:01\r\u001b[K     |████████████▉                   | 307kB 4.6MB/s eta 0:00:01\r\u001b[K     |█████████████▏                  | 317kB 4.6MB/s eta 0:00:01\r\u001b[K     |█████████████▋                  | 327kB 4.6MB/s eta 0:00:01\r\u001b[K     |██████████████                  | 337kB 4.6MB/s eta 0:00:01\r\u001b[K     |██████████████▌                 | 348kB 4.6MB/s eta 0:00:01\r\u001b[K     |███████████████                 | 358kB 4.6MB/s eta 0:00:01\r\u001b[K     |███████████████▍                | 368kB 4.6MB/s eta 0:00:01\r\u001b[K     |███████████████▊                | 378kB 4.6MB/s eta 0:00:01\r\u001b[K     |████████████████▏               | 389kB 4.6MB/s eta 0:00:01\r\u001b[K     |████████████████▋               | 399kB 4.6MB/s eta 0:00:01\r\u001b[K     |█████████████████               | 409kB 4.6MB/s eta 0:00:01\r\u001b[K     |█████████████████▌              | 419kB 4.6MB/s eta 0:00:01\r\u001b[K     |██████████████████              | 430kB 4.6MB/s eta 0:00:01\r\u001b[K     |██████████████████▎             | 440kB 4.6MB/s eta 0:00:01\r\u001b[K     |██████████████████▊             | 450kB 4.6MB/s eta 0:00:01\r\u001b[K     |███████████████████▏            | 460kB 4.6MB/s eta 0:00:01\r\u001b[K     |███████████████████▋            | 471kB 4.6MB/s eta 0:00:01\r\u001b[K     |████████████████████            | 481kB 4.6MB/s eta 0:00:01\r\u001b[K     |████████████████████▌           | 491kB 4.6MB/s eta 0:00:01\r\u001b[K     |████████████████████▉           | 501kB 4.6MB/s eta 0:00:01\r\u001b[K     |█████████████████████▎          | 512kB 4.6MB/s eta 0:00:01\r\u001b[K     |█████████████████████▊          | 522kB 4.6MB/s eta 0:00:01\r\u001b[K     |██████████████████████▏         | 532kB 4.6MB/s eta 0:00:01\r\u001b[K     |██████████████████████▋         | 542kB 4.6MB/s eta 0:00:01\r\u001b[K     |███████████████████████         | 552kB 4.6MB/s eta 0:00:01\r\u001b[K     |███████████████████████▍        | 563kB 4.6MB/s eta 0:00:01\r\u001b[K     |███████████████████████▉        | 573kB 4.6MB/s eta 0:00:01\r\u001b[K     |████████████████████████▎       | 583kB 4.6MB/s eta 0:00:01\r\u001b[K     |████████████████████████▊       | 593kB 4.6MB/s eta 0:00:01\r\u001b[K     |█████████████████████████▏      | 604kB 4.6MB/s eta 0:00:01\r\u001b[K     |█████████████████████████▋      | 614kB 4.6MB/s eta 0:00:01\r\u001b[K     |██████████████████████████      | 624kB 4.6MB/s eta 0:00:01\r\u001b[K     |██████████████████████████▍     | 634kB 4.6MB/s eta 0:00:01\r\u001b[K     |██████████████████████████▉     | 645kB 4.6MB/s eta 0:00:01\r\u001b[K     |███████████████████████████▎    | 655kB 4.6MB/s eta 0:00:01\r\u001b[K     |███████████████████████████▊    | 665kB 4.6MB/s eta 0:00:01\r\u001b[K     |████████████████████████████▏   | 675kB 4.6MB/s eta 0:00:01\r\u001b[K     |████████████████████████████▌   | 686kB 4.6MB/s eta 0:00:01\r\u001b[K     |█████████████████████████████   | 696kB 4.6MB/s eta 0:00:01\r\u001b[K     |█████████████████████████████▍  | 706kB 4.6MB/s eta 0:00:01\r\u001b[K     |█████████████████████████████▉  | 716kB 4.6MB/s eta 0:00:01\r\u001b[K     |██████████████████████████████▎ | 727kB 4.6MB/s eta 0:00:01\r\u001b[K     |██████████████████████████████▊ | 737kB 4.6MB/s eta 0:00:01\r\u001b[K     |███████████████████████████████ | 747kB 4.6MB/s eta 0:00:01\r\u001b[K     |███████████████████████████████▌| 757kB 4.6MB/s eta 0:00:01\r\u001b[K     |████████████████████████████████| 768kB 4.6MB/s eta 0:00:01\r\u001b[K     |████████████████████████████████| 778kB 4.6MB/s \n",
            "\u001b[?25hCollecting sentencepiece!=0.1.92\n",
            "\u001b[?25l  Downloading https://files.pythonhosted.org/packages/d4/a4/d0a884c4300004a78cca907a6ff9a5e9fe4f090f5d95ab341c53d28cbc58/sentencepiece-0.1.91-cp36-cp36m-manylinux1_x86_64.whl (1.1MB)\n",
            "\u001b[K     |████████████████████████████████| 1.1MB 23.9MB/s \n",
            "\u001b[?25hCollecting sacremoses\n",
            "\u001b[?25l  Downloading https://files.pythonhosted.org/packages/7d/34/09d19aff26edcc8eb2a01bed8e98f13a1537005d31e95233fd48216eed10/sacremoses-0.0.43.tar.gz (883kB)\n",
            "\u001b[K     |████████████████████████████████| 890kB 24.0MB/s \n",
            "\u001b[?25hRequirement already satisfied: regex!=2019.12.17 in /usr/local/lib/python3.6/dist-packages (from transformers) (2019.12.20)\n",
            "Collecting tokenizers==0.8.1.rc1\n",
            "\u001b[?25l  Downloading https://files.pythonhosted.org/packages/40/d0/30d5f8d221a0ed981a186c8eb986ce1c94e3a6e87f994eae9f4aa5250217/tokenizers-0.8.1rc1-cp36-cp36m-manylinux1_x86_64.whl (3.0MB)\n",
            "\u001b[K     |████████████████████████████████| 3.0MB 44.0MB/s \n",
            "\u001b[?25hRequirement already satisfied: tqdm>=4.27 in /usr/local/lib/python3.6/dist-packages (from transformers) (4.41.1)\n",
            "Requirement already satisfied: filelock in /usr/local/lib/python3.6/dist-packages (from transformers) (3.0.12)\n",
            "Requirement already satisfied: dataclasses; python_version < \"3.7\" in /usr/local/lib/python3.6/dist-packages (from transformers) (0.7)\n",
            "Requirement already satisfied: requests in /usr/local/lib/python3.6/dist-packages (from transformers) (2.23.0)\n",
            "Requirement already satisfied: packaging in /usr/local/lib/python3.6/dist-packages (from transformers) (20.4)\n",
            "Requirement already satisfied: numpy in /usr/local/lib/python3.6/dist-packages (from transformers) (1.18.5)\n",
            "Requirement already satisfied: six in /usr/local/lib/python3.6/dist-packages (from sacremoses->transformers) (1.15.0)\n",
            "Requirement already satisfied: click in /usr/local/lib/python3.6/dist-packages (from sacremoses->transformers) (7.1.2)\n",
            "Requirement already satisfied: joblib in /usr/local/lib/python3.6/dist-packages (from sacremoses->transformers) (0.16.0)\n",
            "Requirement already satisfied: certifi>=2017.4.17 in /usr/local/lib/python3.6/dist-packages (from requests->transformers) (2020.6.20)\n",
            "Requirement already satisfied: idna<3,>=2.5 in /usr/local/lib/python3.6/dist-packages (from requests->transformers) (2.10)\n",
            "Requirement already satisfied: chardet<4,>=3.0.2 in /usr/local/lib/python3.6/dist-packages (from requests->transformers) (3.0.4)\n",
            "Requirement already satisfied: urllib3!=1.25.0,!=1.25.1,<1.26,>=1.21.1 in /usr/local/lib/python3.6/dist-packages (from requests->transformers) (1.24.3)\n",
            "Requirement already satisfied: pyparsing>=2.0.2 in /usr/local/lib/python3.6/dist-packages (from packaging->transformers) (2.4.7)\n",
            "Building wheels for collected packages: sacremoses\n",
            "  Building wheel for sacremoses (setup.py) ... \u001b[?25l\u001b[?25hdone\n",
            "  Created wheel for sacremoses: filename=sacremoses-0.0.43-cp36-none-any.whl size=893260 sha256=328412f46753e2a0b312e2e107cc810e898c1ca74bb3be119c0d34913cd6550c\n",
            "  Stored in directory: /root/.cache/pip/wheels/29/3c/fd/7ce5c3f0666dab31a50123635e6fb5e19ceb42ce38d4e58f45\n",
            "Successfully built sacremoses\n",
            "Installing collected packages: sentencepiece, sacremoses, tokenizers, transformers\n",
            "Successfully installed sacremoses-0.0.43 sentencepiece-0.1.91 tokenizers-0.8.1rc1 transformers-3.0.2\n",
            "Requirement already satisfied: tokenizers in /usr/local/lib/python3.6/dist-packages (0.8.1rc1)\n"
          ],
          "name": "stdout"
        }
      ]
    },
    {
      "cell_type": "code",
      "metadata": {
        "id": "-xdLGjqIa6bn",
        "colab": {
          "base_uri": "https://localhost:8080/",
          "height": 357
        },
        "outputId": "6e24e78e-e62f-4c59-c1d1-a741af04f718"
      },
      "source": [
        "###### Loading Dataset\n",
        "\n",
        "##### Download dataset\n",
        "!wget --no-hsts https://github.com/Rutvik-Trivedi/files/blob/master/cleaned_data.tar.xz?raw=true\n",
        "!mv cleaned_data.tar.xz?raw=true dataset.tar.xz\n",
        "\n",
        "##### Unzip the Dataset\n",
        "!tar -xf dataset.tar.xz"
      ],
      "execution_count": null,
      "outputs": [
        {
          "output_type": "stream",
          "text": [
            "--2020-08-10 02:18:46--  https://github.com/Rutvik-Trivedi/files/blob/master/cleaned_data.tar.xz?raw=true\n",
            "Resolving github.com (github.com)... 192.30.255.113\n",
            "Connecting to github.com (github.com)|192.30.255.113|:443... connected.\n",
            "HTTP request sent, awaiting response... 302 Found\n",
            "Location: https://github.com/Rutvik-Trivedi/files/raw/master/cleaned_data.tar.xz [following]\n",
            "--2020-08-10 02:18:46--  https://github.com/Rutvik-Trivedi/files/raw/master/cleaned_data.tar.xz\n",
            "Reusing existing connection to github.com:443.\n",
            "HTTP request sent, awaiting response... 302 Found\n",
            "Location: https://raw.githubusercontent.com/Rutvik-Trivedi/files/master/cleaned_data.tar.xz [following]\n",
            "--2020-08-10 02:18:47--  https://raw.githubusercontent.com/Rutvik-Trivedi/files/master/cleaned_data.tar.xz\n",
            "Resolving raw.githubusercontent.com (raw.githubusercontent.com)... 151.101.0.133, 151.101.64.133, 151.101.128.133, ...\n",
            "Connecting to raw.githubusercontent.com (raw.githubusercontent.com)|151.101.0.133|:443... connected.\n",
            "HTTP request sent, awaiting response... 200 OK\n",
            "Length: 51560704 (49M) [application/octet-stream]\n",
            "Saving to: ‘cleaned_data.tar.xz?raw=true’\n",
            "\n",
            "cleaned_data.tar.xz 100%[===================>]  49.17M  68.1MB/s    in 0.7s    \n",
            "\n",
            "2020-08-10 02:18:48 (68.1 MB/s) - ‘cleaned_data.tar.xz?raw=true’ saved [51560704/51560704]\n",
            "\n"
          ],
          "name": "stdout"
        }
      ]
    },
    {
      "cell_type": "code",
      "metadata": {
        "id": "9AR94ff2bJuO"
      },
      "source": [
        "###### Importing Libraries\n",
        "\n",
        "import numpy as np\n",
        "import pandas as pd\n",
        "import matplotlib.pyplot as plt\n",
        "import tensorflow as tf\n",
        "import os\n",
        "import gc\n",
        "from sklearn.utils import shuffle"
      ],
      "execution_count": null,
      "outputs": []
    },
    {
      "cell_type": "code",
      "metadata": {
        "id": "TpzLED9qB56p",
        "colab": {
          "base_uri": "https://localhost:8080/",
          "height": 34
        },
        "outputId": "0dbbe1c2-76d5-4d5d-a0c5-57c321e601c0"
      },
      "source": [
        "###### Reading Dataset\n",
        "\n",
        "tweet_set = []\n",
        "\n",
        "l = os.listdir('cleaned_data/')\n",
        "for user in l:\n",
        "  tweets = pd.read_csv('cleaned_data/'+user)\n",
        "  tweet_set += tweets['tweets'].tolist()\n",
        "\n",
        "print(len((tweet_set))) # Total Number of tweets\n",
        "\n",
        "tweet_set = shuffle(tweet_set) # Shuffling the dataset of tweets\n",
        "\n",
        "with open('tweet.txt', \"w\") as myfile: # Making a file 'tweet.txt' from present tweets\n",
        "        for c in tweet_set:\n",
        "                myfile.write(\"%s\\n\" % c)\n",
        "\n",
        "tweet_set_final = []\n",
        "\n",
        "for item in tweet_set:\n",
        "  if(type(item) !=  float):\n",
        "    tweet_set_final.append(item)"
      ],
      "execution_count": null,
      "outputs": [
        {
          "output_type": "stream",
          "text": [
            "3472574\n"
          ],
          "name": "stdout"
        }
      ]
    },
    {
      "cell_type": "code",
      "metadata": {
        "id": "tb91mTS8whEE",
        "colab": {
          "base_uri": "https://localhost:8080/",
          "height": 115,
          "referenced_widgets": [
            "35927d259fba4d98a857041d57f6d4f2",
            "3f6e31f8bd2e481ebe0beedbdce258f9",
            "a9cdaf5792ef4afe96301826443a6b00",
            "a8e99606d1254702bb9b723dc7da6a01",
            "c16201df4a4c48819e70405c8987d72c",
            "f40500b9c44e46acb2d2d4117ac88bfe",
            "3ff6d993a8e44c5e820246a6af42a5ec",
            "a62727cb67a34f36a380b62d955e7e7d",
            "f33a4d5968184219a1ca3a79b6766d98",
            "8277550d6bda459bbe13a41762b2ff80",
            "d12c8de2265d48c8a6cf658af3a79feb",
            "3eab942c73ee469386d25da992d8bb43",
            "a920aa2127e44152b243097842ba539f",
            "5fb6aeeca61b440b8d6bf98c481ba4a2",
            "33455bf3a69a435a88cccb6f5c8c03cf",
            "1e73abe7f3aa4a3cb7d4098b583f1766"
          ]
        },
        "outputId": "75f97a0d-c12e-42a5-f4fd-d6c535266e1b"
      },
      "source": [
        "###### Training Language Model\n",
        "\n",
        "from transformers import GPT2Config\n",
        "from transformers import TFGPT2LMHeadModel\n",
        "from transformers import GPT2Tokenizer\n",
        "from transformers import LineByLineTextDataset\n",
        "from transformers import DataCollatorForLanguageModeling\n",
        "from transformers import TFTrainer, TFTrainingArguments\n",
        "from tokenizers import ByteLevelBPETokenizer\n",
        "from tokenizers.implementations import ByteLevelBPETokenizer\n",
        "from tokenizers.processors import BertProcessing\n",
        "import tqdm\n",
        "\n",
        "#### Use of Custom Tokenizer\n",
        "\n",
        "!mkdir Tweet_GPT2\n",
        "tokenizer = GPT2Tokenizer.from_pretrained('gpt2', do_lower_case=True,add_special_tokens=True,max_length=128,pad_to_max_length=True)\n",
        "#tokenizer.save_model(\"Tweet_GPT2\")\n",
        "\n",
        "#config = GPT2Config(vocab_size=25000,max_position_embeddings=514,type_vocab_size=1)\n",
        "#transformer_model = TFGPT2LMHeadModel.from_pretrained('gpt2',config)\n",
        "\n",
        "#dataset = LineByLineTextDataset(tokenizer=tokenizer,file_path=\"/content/tweet.txt\",block_size=128)\n",
        "#data_collator = DataCollatorForLanguageModeling(tokenizer=tokenizer, mlm=True, mlm_probability=0.15)\n",
        "\n",
        "#training_args = TrainingArguments(output_dir=\"/content/Tweet_GPT2\",overwrite_output_dir=True,num_train_epochs=1)\n",
        "#trainer = TFTrainer(model=transformer_model,args=training_args,data_collator=data_collator,train_dataset=dataset,prediction_loss_only=True)\n",
        "\n",
        "#### Training the Tokenizer\n",
        "\n",
        "#paths = '/content/tweet.txt'\n",
        "\n",
        "#tokenizer = ByteLevelBPETokenizer()\n",
        "#tokenizer.train(files=paths, vocab_size=25000, min_frequency=2, special_tokens=[\"<s>\",\"<pad>\",\"</s>\",\"<unk>\",\"<mask>\",])\n",
        "\n",
        "#tokenizer = ByteLevelBPETokenizer('/content/Tweet_GPT2/vocab.json','/content/Tweet_GPT2/merges.txt')\n",
        "#tokenizer._tokenizer.post_processor = BertProcessing((\"</s>\",tokenizer.token_to_id(\"</s>\")),(\"s\",tokenizer.token_to_id(\"<s>\")),)\n",
        "#tokenizer.enable_truncation(max_length=512)\n",
        "\n",
        "#### Use of Pre-Trained Tokenizer\n",
        "\n",
        "### Defining Tokenizer\n",
        "\n",
        "#tokenizer = GPT2Tokenizer('/content/Tweet_GPT2/vocab.json','/content/Tweet_GPT2/merges.txt',\"gpt2\",do_lower_case=True,add_special_tokens=True,max_length=128,pad_to_max_length=True)\n",
        "#tokenizer.add_special_tokens({'pad_token': '[PAD]'})\n",
        "\n",
        "#def tokenize(sentences, tokenizer):\n",
        "#    input_ids, input_masks = [],[]\n",
        "#    for sentence in (sentences):\n",
        "#        inputs = tokenizer.encode_plus(sentence, add_special_tokens=True, max_length=128, pad_to_max_length=True, return_attention_mask=True)\n",
        "#        input_ids.append(inputs['input_ids'])\n",
        "#        input_masks.append(inputs['attention_mask'])\n",
        "\n",
        "#    return np.asarray(input_ids, dtype='int32'), np.asarray(input_masks, dtype='int32')"
      ],
      "execution_count": null,
      "outputs": [
        {
          "output_type": "display_data",
          "data": {
            "application/vnd.jupyter.widget-view+json": {
              "model_id": "35927d259fba4d98a857041d57f6d4f2",
              "version_minor": 0,
              "version_major": 2
            },
            "text/plain": [
              "HBox(children=(FloatProgress(value=0.0, description='Downloading', max=1042301.0, style=ProgressStyle(descript…"
            ]
          },
          "metadata": {
            "tags": []
          }
        },
        {
          "output_type": "stream",
          "text": [
            "\n"
          ],
          "name": "stdout"
        },
        {
          "output_type": "display_data",
          "data": {
            "application/vnd.jupyter.widget-view+json": {
              "model_id": "f33a4d5968184219a1ca3a79b6766d98",
              "version_minor": 0,
              "version_major": 2
            },
            "text/plain": [
              "HBox(children=(FloatProgress(value=0.0, description='Downloading', max=456318.0, style=ProgressStyle(descripti…"
            ]
          },
          "metadata": {
            "tags": []
          }
        },
        {
          "output_type": "stream",
          "text": [
            "\n"
          ],
          "name": "stdout"
        }
      ]
    },
    {
      "cell_type": "code",
      "metadata": {
        "id": "VGxmItyFSLlk",
        "colab": {
          "base_uri": "https://localhost:8080/",
          "height": 183,
          "referenced_widgets": [
            "5284c488e7a94b35ba92e67201ca6273",
            "6de15ab4803d4dc5b273a9c773578e2c",
            "4fc04f5eefe2498093dfc2f3e7222737",
            "8179b2413d244541866a0e8b7ca7b977",
            "dac8b1c66d1e42829c9e36c3db4a8338",
            "b851435d07f64bfc8c128bf12b9303a5",
            "31ec0adbf5474b2ab76151f410778ac3",
            "5aa3959fc05541c6b67cb7f2faa07f87",
            "8e7bcfaca92f4d90bf3b42fb675c9736",
            "8d24fb997f654254bdf9b7c26cee4d7c",
            "879ebf707bd443589aeb15e943ae5a88",
            "ddbda17b438740c597bce19a14fdf3a7",
            "e5be9568f48c45919c4fd8dae7ca17df",
            "fb35214a9af747f986ff77895a6c91b8",
            "994b8522cbc7482a9e92b5cb87e63974",
            "f0d7bd6895d74d6eb060adbd122e0f6e"
          ]
        },
        "outputId": "a9d45abf-746b-4663-a2ea-1f23622d1772"
      },
      "source": [
        "#### Building the Model\n",
        "\n",
        "### Defining the Model\n",
        "\n",
        "config = GPT2Config()\n",
        "config.output_hidden_states = False\n",
        "transformer_model = TFGPT2LMHeadModel.from_pretrained('gpt2',pad_token_id=tokenizer.eos_token_id)\n",
        "\n",
        "#input_ids_in = tf.keras.layers.Input(shape=(128,), name='input_token', dtype='int32')\n",
        "#input_masks_in = tf.keras.layers.Input(shape=(128,), name='masked_token', dtype='int32')\n",
        "#transformer_layer = transformer_model(input_ids_in, attention_mask=input_masks_in)[0]\n",
        "\n",
        "#model = tf.keras.Model(inputs=[input_ids_in, input_masks_in], outputs = transformer_layer)"
      ],
      "execution_count": null,
      "outputs": [
        {
          "output_type": "display_data",
          "data": {
            "application/vnd.jupyter.widget-view+json": {
              "model_id": "5284c488e7a94b35ba92e67201ca6273",
              "version_minor": 0,
              "version_major": 2
            },
            "text/plain": [
              "HBox(children=(FloatProgress(value=0.0, description='Downloading', max=665.0, style=ProgressStyle(description_…"
            ]
          },
          "metadata": {
            "tags": []
          }
        },
        {
          "output_type": "stream",
          "text": [
            "\n"
          ],
          "name": "stdout"
        },
        {
          "output_type": "display_data",
          "data": {
            "application/vnd.jupyter.widget-view+json": {
              "model_id": "8e7bcfaca92f4d90bf3b42fb675c9736",
              "version_minor": 0,
              "version_major": 2
            },
            "text/plain": [
              "HBox(children=(FloatProgress(value=0.0, description='Downloading', max=497933648.0, style=ProgressStyle(descri…"
            ]
          },
          "metadata": {
            "tags": []
          }
        },
        {
          "output_type": "stream",
          "text": [
            "\n"
          ],
          "name": "stdout"
        },
        {
          "output_type": "stream",
          "text": [
            "All model checkpoint weights were used when initializing TFGPT2LMHeadModel.\n",
            "\n",
            "All the weights of TFGPT2LMHeadModel were initialized from the model checkpoint at gpt2.\n",
            "If your task is similar to the task the model of the ckeckpoint was trained on, you can already use TFGPT2LMHeadModel for predictions without further training.\n"
          ],
          "name": "stderr"
        }
      ]
    },
    {
      "cell_type": "code",
      "metadata": {
        "id": "xleUsHf6yrFH",
        "colab": {
          "base_uri": "https://localhost:8080/",
          "height": 527
        },
        "outputId": "9339c92e-8382-4165-c1bd-428727e41ea5"
      },
      "source": [
        "#### Text Generation through Pre-Trained Model\n",
        "\n",
        "input_text = tokenizer.encode('Deep Learning involves Neural Networks', return_tensors='tf')\n",
        "#print(tweet_set[i])\n",
        "\n",
        "### Greedy Search\n",
        "greedy_output = transformer_model.generate(input_text,max_length=100)\n",
        "print(greedy_output)\n",
        "#print(tokenizer.decode(greedy_output[0],skip_special_tokens=True))\n",
        "\n",
        "### Beam Search\n",
        "beam_output = transformer_model.generate(input_text,num_beams=5,max_length=100)\n",
        "print(beam_output)\n",
        "#print(tokenizer.decode(beam_output[0],skip_special_tokens=True))\n",
        "\n",
        "### Beam Search with n-gram Repetition removed\n",
        "nr_output = transformer_model.generate(input_text,num_beams=5,no_repeat_ngram_size=5,max_length=100)\n",
        "print(nr_output)\n",
        "#print(tokenizer.decode(nr_output[0],skip_special_tokens=True))"
      ],
      "execution_count": null,
      "outputs": [
        {
          "output_type": "stream",
          "text": [
            "tf.Tensor(\n",
            "[[22089  4673  9018 17019  7686   326   389  1498   284  2193   422   262\n",
            "   5128   290  2193   422   262  5072    13   198   198   464   717  2239\n",
            "    287  4673   318   284  2193   422   262  5128   290  2193   422   262\n",
            "   5072    13   383  1218  2239   318   284  2193   422   262  5128   290\n",
            "   2193   422   262  5072    13   198   198   464   717  2239   287  4673\n",
            "    318   284  2193   422   262  5128   290  2193   422   262  5072    13\n",
            "    383  1218  2239   318   284  2193   422   262  5128   290  2193   422\n",
            "    262  5072    13   198   198   464   717  2239   287  4673   318   284\n",
            "   2193   422   262  5128]], shape=(1, 100), dtype=int32)\n",
            "tf.Tensor(\n",
            "[[22089  4673  9018 17019  7686    13   198   198   818   428  3348    11\n",
            "    356   905   326 17019  7686   460   307   973   284  2193   284  4331\n",
            "    262  2003    13   775   905   326 17019  7686   460   307   973   284\n",
            "   2193   284  4331   262  2003    13   198   198   818   428  3348    11\n",
            "    356   905   326 17019  7686   460   307   973   284  2193   284  4331\n",
            "    262  2003    13   775   905   326 17019  7686   460   307   973   284\n",
            "   2193   284  4331   262  2003    13   198   198   818   428  3348    11\n",
            "    356   905   326 17019  7686   460   307   973   284  2193   284  4331\n",
            "    262  2003    13   775]], shape=(1, 100), dtype=int32)\n",
            "tf.Tensor(\n",
            "[[22089  4673  9018 17019  7686    13   198   198   818   428  3348    11\n",
            "    356   905   326 17019  7686   460   307   973   284  2193   284  4331\n",
            "    262  2003    13   775   635   905   326   484   460   307   973   284\n",
            "   4331   262  2003   287   257   835   326   318  2092   284   262   835\n",
            "    356   460  4331   262  2003   287   262  1103   995    13   198   198\n",
            "   1135   905   326 17019  7686   389  1498   284  4331   262  2003  1912\n",
            "    319   511 16277   286   262  2003    13   775   905   326   484   460\n",
            "    635  4331   262  2003   287  2842   326   389  2092   284   262  2842\n",
            "    356   460  4331   262]], shape=(1, 100), dtype=int32)\n"
          ],
          "name": "stdout"
        }
      ]
    },
    {
      "cell_type": "code",
      "metadata": {
        "id": "dFEIiXgNjRjQ"
      },
      "source": [
        "#### Fine-Tuning the Model\n",
        "\n",
        "### Dataset Generation\n",
        "dataset = LineByLineTextDataset(tokenizer=tokenizer,file_path=\"/content/tweet.txt\",block_size=128)"
      ],
      "execution_count": null,
      "outputs": []
    },
    {
      "cell_type": "code",
      "metadata": {
        "id": "2P87echFmOvT"
      },
      "source": [
        "### Dataset Conversion\n",
        "data_collator = DataCollatorForLanguageModeling(tokenizer=tokenizer)\n",
        "\n",
        "### Training Argument Generation\n",
        "training_args = TFTrainingArguments(output_dir=\"/content/Tweet_GPT2\",overwrite_output_dir=True,num_train_epochs=1)\n",
        "trainer = TFTrainer(model=transformer_model,args=training_args,train_dataset=dataset,prediction_loss_only=True)\n",
        "\n",
        "### Training the Model\n",
        "trainer.train()"
      ],
      "execution_count": null,
      "outputs": []
    },
    {
      "cell_type": "code",
      "metadata": {
        "id": "E6od3L6A9GyO"
      },
      "source": [
        "### Text Generation through Fine Tuned Model\n",
        "\n",
        "input_text = tokenizer.encode('Deep Learning involves Neural Networks', return_tensors='tf')\n",
        "print(tweet_set[1000])\n",
        "\n",
        "## Greedy Search\n",
        "greedy_output = transformer_model.generate(input_text,max_length=100)\n",
        "print(tokenizer.decode(greedy_output[0],skip_special_tokens=True))\n",
        "\n",
        "## Beam Search\n",
        "beam_output = transformer_model.generate(input_text,num_beams=5,max_length=100)\n",
        "print(tokenizer.decode(beam_output[0],skip_special_tokens=True))\n",
        "\n",
        "## Beam Search with n-gram Repetition removed\n",
        "nr_output = transformer_model.generate(input_text,num_beams=5,no_repeat_ngram_size=5,max_length=100)\n",
        "print(tokenizer.decode(nr_output[0],skip_special_tokens=True))"
      ],
      "execution_count": null,
      "outputs": []
    }
  ]
}